
{
 "cells": [
  {
   "cell_type": "markdown",
   "metadata": {},
   "source": [
    "# Modélisation empreinte carbone\n",
    "\n",
    "Développement et optimisation des calculs d'empreinte carbone pour les différents modes de transport."
   ]
  },
  {
   "cell_type": "code",
   "execution_count": null,
   "metadata": {},
   "outputs": [],
   "source": [
    "import pandas as pd\n",
    "import numpy as np\n",
    "import matplotlib.pyplot as plt\n",
    "import sys\n",
    "sys.path.append('../')\n",
    "\n",
    "from src.utils.data_loader import data_loader\n",
    "from src.utils.preprocessing import preprocess_carbon_data, calculate_distance_haversine"
   ]
  },
  {
   "cell_type": "markdown",
   "metadata": {},
   "source": [
    "## 1. Analyse des modes de transport"
   ]
  },
  {
   "cell_type": "code",
   "execution_count": null,
   "metadata": {},
   "outputs": [],
   "source": [
    "# Charger les données de transport\n",
    "transport_df = await data_loader.load_transport_modes()\n",
    "print(f\"Modes de transport disponibles: {len(transport_df)}\")\n",
    "transport_df"
   ]
  },
  {
   "cell_type": "code",
   "execution_count": null,
   "metadata": {},
   "outputs": [],
   "source": [
    "# Visualisation des facteurs CO2\n",
    "plt.figure(figsize=(10, 6))\n",
    "transport_df.plot(x='name', y='co2_factor_per_km', kind='bar')\n",
    "plt.title('Facteurs CO2 par mode de transport')\n",
    "plt.xlabel('Mode de transport')\n",
    "plt.ylabel('kg CO2 / km')\n",
    "plt.xticks(rotation=45)\n",
    "plt.tight_layout()\n",
    "plt.show()"
   ]
  },
  {
   "cell_type": "markdown",
   "metadata": {},
   "source": [
    "## 2. Analyse des trajets utilisateurs"
   ]
  },
  {
   "cell_type": "code",
   "execution_count": null,
   "metadata": {},
   "outputs": [],
   "source": [
    "# Charger les trajets utilisateurs\n",
    "trips_df = await data_loader.load_user_trips(limit=5000)\n",
    "print(f\"Nombre de trajets: {len(trips_df)}\")\n",
    "trips_df.head()"
   ]
  },
  {
   "cell_type": "code",
   "execution_count": null,
   "metadata": {},
   "outputs": [],
   "source": [
    "# Distribution des distances\n",
    "plt.figure(figsize=(12, 4))\n",
    "plt.subplot(1, 2, 1)\n",
    "plt.hist(trips_df['distance_km'], bins=50, alpha=0.7)\n",
    "plt.title('Distribution des distances')\n",
    "plt.xlabel('Distance (km)')\n",
    "plt.ylabel('Fréquence')\n",
    "\n",
    "plt.subplot(1, 2, 2)\n",
    "plt.hist(trips_df['co2_saved_kg'], bins=50, alpha=0.7, color='green')\n",
    "plt.title('Distribution CO2 économisé')\n",
    "plt.xlabel('CO2 économisé (kg)')\n",
    "plt.ylabel('Fréquence')\n",
    "\n",
    "plt.tight_layout()\n",
    "plt.show()"
   ]
  },
  {
   "cell_type": "markdown",
   "metadata": {},
   "source": [
    "## 3. Optimisation des calculs"
   ]
  },
  {
   "cell_type": "code",
   "execution_count": null,
   "metadata": {},
   "outputs": [],
   "source": [
    "# Test de performance du calcul de distance\n",
    "import time\n",
    "\n",
    "# Coordonnées test (Paris)\n",
    "lat1, lon1 = 48.8566, 2.3522\n",
    "lat2, lon2 = 48.8606, 2.3376\n",
    "\n",
    "start_time = time.time()\n",
    "for _ in range(10000):\n",
    "    distance = calculate_distance_haversine(lat1, lon1, lat2, lon2)\n",
    "end_time = time.time()\n",
    "\n",
    "print(f\"Distance calculée: {distance:.3f} km\")\n",
    "print(f\"Temps pour 10k calculs: {(end_time - start_time)*1000:.2f} ms\")"
   ]
  }
 ],
 "metadata": {
  "kernelspec": {
   "display_name": "Python 3",
   "language": "python",
   "name": "python3"
  },
  "language_info": {
   "codemirror_mode": {
    "name": "ipython",
    "version": 3
   },
   "file_extension": ".py",
   "mimetype": "text/x-python",
   "name": "python",
   "nbconvert_exporter": "python",
   "pygments_lexer": "ipython3",
   "version": "3.8.5"
  }
 },
 "nbformat": 4,
 "nbformat_minor": 4
}
