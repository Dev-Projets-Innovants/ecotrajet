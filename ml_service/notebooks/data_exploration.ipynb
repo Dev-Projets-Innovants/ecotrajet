
{
 "cells": [
  {
   "cell_type": "markdown",
   "metadata": {},
   "source": [
    "# Exploration des données EcoTrajet\n",
    "\n",
    "Analyse exploratoire complète des données disponibles via l'API Supabase."
   ]
  },
  {
   "cell_type": "code",
   "execution_count": null,
   "metadata": {},
   "outputs": [],
   "source": [
    "import pandas as pd\n",
    "import numpy as np\n",
    "import matplotlib.pyplot as plt\n",
    "import seaborn as sns\n",
    "import sys\n",
    "sys.path.append('../')\n",
    "\n",
    "from src.utils.data_loader import data_loader\n",
    "\n",
    "# Configuration des graphiques\n",
    "plt.style.use('seaborn-v0_8')\n",
    "sns.set_palette(\"husl\")"
   ]
  },
  {
   "cell_type": "markdown",
   "metadata": {},
   "source": [
    "## 1. Vue d'ensemble des données"
   ]
  },
  {
   "cell_type": "code",
   "execution_count": null,
   "metadata": {},
   "outputs": [],
   "source": [
    "# Charger toutes les sources de données\n",
    "stations_df = await data_loader.load_velib_stations()\n",
    "history_df = await data_loader.load_velib_availability_history(days_back=7)\n",
    "transport_df = await data_loader.load_transport_modes()\n",
    "trips_df = await data_loader.load_user_trips(limit=1000)\n",
    "\n",
    "print(\"=== RÉSUMÉ DES DONNÉES ===\")\n",
    "print(f\"Stations Vélib': {len(stations_df)}\")\n",
    "print(f\"Historique (7j): {len(history_df)} enregistrements\")\n",
    "print(f\"Modes transport: {len(transport_df)}\")\n",
    "print(f\"Trajets utilisateurs: {len(trips_df)}\")"
   ]
  },
  {
   "cell_type": "markdown",
   "metadata": {},
   "source": [
    "## 2. Analyse géographique des stations"
   ]
  },
  {
   "cell_type": "code",
   "execution_count": null,
   "metadata": {},
   "outputs": [],
   "source": [
    "# Distribution géographique\n",
    "plt.figure(figsize=(12, 8))\n",
    "plt.scatter(stations_df['coordonnees_geo_lon'], stations_df['coordonnees_geo_lat'], \n",
    "           c=stations_df['capacity'], cmap='viridis', alpha=0.6)\n",
    "plt.colorbar(label='Capacité')\n",
    "plt.title('Distribution géographique des stations Vélib')\n",
    "plt.xlabel('Longitude')\n",
    "plt.ylabel('Latitude')\n",
    "plt.show()"
   ]
  },
  {
   "cell_type": "markdown",
   "metadata": {},
   "source": [
    "## 3. Patterns temporels"
   ]
  },
  {
   "cell_type": "code",
   "execution_count": null,
   "metadata": {},
   "outputs": [],
   "source": [
    "# Analyse temporelle complète\n",
    "if not history_df.empty:\n",
    "    history_df['hour'] = history_df['timestamp'].dt.hour\n",
    "    history_df['day_of_week'] = history_df['timestamp'].dt.day_name()\n",
    "    \n",
    "    fig, axes = plt.subplots(2, 2, figsize=(15, 10))\n",
    "    \n",
    "    # Par heure\n",
    "    hourly_avg = history_df.groupby('hour')['numbikesavailable'].mean()\n",
    "    axes[0,0].plot(hourly_avg.index, hourly_avg.values, marker='o')\n",
    "    axes[0,0].set_title('Disponibilité moyenne par heure')\n",
    "    axes[0,0].set_xlabel('Heure')\n",
    "    axes[0,0].grid(True)\n",
    "    \n",
    "    # Par jour de la semaine\n",
    "    daily_avg = history_df.groupby('day_of_week')['numbikesavailable'].mean()\n",
    "    axes[0,1].bar(daily_avg.index, daily_avg.values)\n",
    "    axes[0,1].set_title('Disponibilité moyenne par jour')\n",
    "    axes[0,1].tick_params(axis='x', rotation=45)\n",
    "    \n",
    "    # Distribution occupation\n",
    "    history_df['occupation_rate'] = history_df['numbikesavailable'] / (history_df['numbikesavailable'] + history_df['numdocksavailable'])\n",
    "    axes[1,0].hist(history_df['occupation_rate'].dropna(), bins=50, alpha=0.7)\n",
    "    axes[1,0].set_title('Distribution du taux d\\'occupation')\n",
    "    axes[1,0].set_xlabel('Taux d\\'occupation')\n",
    "    \n",
    "    # Types de vélos\n",
    "    bike_types = ['mechanical', 'ebike']\n",
    "    bike_counts = [history_df['mechanical'].sum(), history_df['ebike'].sum()]\n",
    "    axes[1,1].pie(bike_counts, labels=bike_types, autopct='%1.1f%%')\n",
    "    axes[1,1].set_title('Répartition types de vélos')\n",
    "    \n",
    "    plt.tight_layout()\n",
    "    plt.show()"
   ]
  },
  {
   "cell_type": "markdown",
   "metadata": {},
   "source": [
    "## 4. Qualité des données"
   ]
  },
  {
   "cell_type": "code",
   "execution_count": null,
   "metadata": {},
   "outputs": [],
   "source": [
    "print(\"=== QUALITÉ DES DONNÉES ===\")\n",
    "print(\"\\nStations Vélib':\")\n",
    "print(stations_df.isnull().sum())\n",
    "print(f\"Doublons: {stations_df.duplicated().sum()}\")\n",
    "\n",
    "if not history_df.empty:\n",
    "    print(\"\\nHistorique disponibilité:\")\n",
    "    print(history_df.isnull().sum())\n",
    "    print(f\"Doublons: {history_df.duplicated().sum()}\")\n",
    "\n",
    "if not trips_df.empty:\n",
    "    print(\"\\nTrajets utilisateurs:\")\n",
    "    print(trips_df.isnull().sum())\n",
    "    print(f\"Doublons: {trips_df.duplicated().sum()}\")"
   ]
  }
 ],
 "metadata": {
  "kernelspec": {
   "display_name": "Python 3",
   "language": "python",
   "name": "python3"
  },
  "language_info": {
   "codemirror_mode": {
    "name": "ipython",
    "version": 3
   },
   "file_extension": ".py",
   "mimetype": "text/x-python",
   "name": "python",
   "nbconvert_exporter": "python",
   "pygments_lexer": "ipython3",
   "version": "3.8.5"
  }
 },
 "nbformat": 4,
 "nbformat_minor": 4
}
