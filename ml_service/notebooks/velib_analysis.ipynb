
{
 "cells": [
  {
   "cell_type": "markdown",
   "metadata": {},
   "source": [
    "# Analyse des données Vélib'\n",
    "\n",
    "Ce notebook contient l'analyse exploratoire des données Vélib' pour développer le modèle de prédiction LSTM."
   ]
  },
  {
   "cell_type": "code",
   "execution_count": null,
   "metadata": {},
   "outputs": [],
   "source": [
    "import pandas as pd\n",
    "import numpy as np\n",
    "import matplotlib.pyplot as plt\n",
    "import seaborn as sns\n",
    "from datetime import datetime, timedelta\n",
    "import sys\n",
    "sys.path.append('../')\n",
    "\n",
    "from src.utils.data_loader import data_loader\n",
    "from src.utils.preprocessing import preprocess_velib_data, create_lstm_sequences"
   ]
  },
  {
   "cell_type": "markdown",
   "metadata": {},
   "source": [
    "## 1. Chargement des données"
   ]
  },
  {
   "cell_type": "code",
   "execution_count": null,
   "metadata": {},
   "outputs": [],
   "source": [
    "# Charger les stations Vélib'\n",
    "stations_df = await data_loader.load_velib_stations()\n",
    "print(f\"Nombre de stations: {len(stations_df)}\")\n",
    "stations_df.head()"
   ]
  },
  {
   "cell_type": "code",
   "execution_count": null,
   "metadata": {},
   "outputs": [],
   "source": [
    "# Charger l'historique de disponibilité\n",
    "history_df = await data_loader.load_velib_availability_history(days_back=30)\n",
    "print(f\"Nombre d'enregistrements: {len(history_df)}\")\n",
    "history_df.head()"
   ]
  },
  {
   "cell_type": "markdown",
   "metadata": {},
   "source": [
    "## 2. Analyse exploratoire"
   ]
  },
  {
   "cell_type": "code",
   "execution_count": null,
   "metadata": {},
   "outputs": [],
   "source": [
    "# Distribution des vélos disponibles\n",
    "plt.figure(figsize=(12, 4))\n",
    "plt.subplot(1, 2, 1)\n",
    "plt.hist(history_df['numbikesavailable'], bins=50, alpha=0.7)\n",
    "plt.title('Distribution des vélos disponibles')\n",
    "plt.xlabel('Nombre de vélos')\n",
    "plt.ylabel('Fréquence')\n",
    "\n",
    "plt.subplot(1, 2, 2)\n",
    "plt.hist(history_df['numdocksavailable'], bins=50, alpha=0.7, color='orange')\n",
    "plt.title('Distribution des places disponibles')\n",
    "plt.xlabel('Nombre de places')\n",
    "plt.ylabel('Fréquence')\n",
    "\n",
    "plt.tight_layout()\n",
    "plt.show()"
   ]
  },
  {
   "cell_type": "markdown",
   "metadata": {},
   "source": [
    "## 3. Patterns temporels"
   ]
  },
  {
   "cell_type": "code",
   "execution_count": null,
   "metadata": {},
   "outputs": [],
   "source": [
    "# Analyse par heure de la journée\n",
    "history_df['hour'] = history_df['timestamp'].dt.hour\n",
    "hourly_stats = history_df.groupby('hour')['numbikesavailable'].mean()\n",
    "\n",
    "plt.figure(figsize=(10, 6))\n",
    "hourly_stats.plot(kind='line', marker='o')\n",
    "plt.title('Disponibilité moyenne par heure')\n",
    "plt.xlabel('Heure de la journée')\n",
    "plt.ylabel('Vélos disponibles (moyenne)')\n",
    "plt.grid(True)\n",
    "plt.show()"
   ]
  },
  {
   "cell_type": "markdown",
   "metadata": {},
   "source": [
    "## 4. Préprocessing des données"
   ]
  },
  {
   "cell_type": "code",
   "execution_count": null,
   "metadata": {},
   "outputs": [],
   "source": [
    "# Préprocessing pour le modèle LSTM\n",
    "X, y = preprocess_velib_data(history_df)\n",
    "print(f\"Shape des features: {X.shape}\")\n",
    "print(f\"Shape des targets: {y.shape}\")\n",
    "\n",
    "# Création des séquences LSTM\n",
    "X_seq, y_seq = create_lstm_sequences(X, y, sequence_length=24)\n",
    "print(f\"Shape des séquences: {X_seq.shape}\")\n",
    "print(f\"Shape des targets séquences: {y_seq.shape}\")"
   ]
  }
 ],
 "metadata": {
  "kernelspec": {
   "display_name": "Python 3",
   "language": "python",
   "name": "python3"
  },
  "language_info": {
   "codemirror_mode": {
    "name": "ipython",
    "version": 3
   },
   "file_extension": ".py",
   "mimetype": "text/x-python",
   "name": "python",
   "nbconvert_exporter": "python",
   "pygments_lexer": "ipython3",
   "version": "3.8.5"
  }
 },
 "nbformat": 4,
 "nbformat_minor": 4
}
